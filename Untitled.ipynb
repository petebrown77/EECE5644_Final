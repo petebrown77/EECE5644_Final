{
 "cells": [
  {
   "cell_type": "code",
   "execution_count": 15,
   "id": "6e5023a5",
   "metadata": {},
   "outputs": [],
   "source": [
    "import pandas\n",
    "import numpy as np\n",
    "import matplotlib.pyplot as plt\n",
    "\n",
    "from sklearn.model_selection import train_test_split\n",
    "\n",
    "from sklearn.svm import SVC, LinearSVC\n",
    "from sklearn.preprocessing import PolynomialFeatures, StandardScaler\n",
    "from sklearn.pipeline import make_pipeline\n",
    "from sklearn.metrics import confusion_matrix, ConfusionMatrixDisplay\n",
    "from sklearn.metrics import precision_recall_fscore_support"
   ]
  },
  {
   "cell_type": "code",
   "execution_count": 2,
   "id": "ba395640",
   "metadata": {},
   "outputs": [],
   "source": [
    "asteroids = pandas.read_csv(\"asteroids.csv\", delimiter=\",\")"
   ]
  },
  {
   "cell_type": "code",
   "execution_count": 3,
   "id": "ff5f991d",
   "metadata": {},
   "outputs": [
    {
     "data": {
      "text/html": [
       "<div>\n",
       "<style scoped>\n",
       "    .dataframe tbody tr th:only-of-type {\n",
       "        vertical-align: middle;\n",
       "    }\n",
       "\n",
       "    .dataframe tbody tr th {\n",
       "        vertical-align: top;\n",
       "    }\n",
       "\n",
       "    .dataframe thead th {\n",
       "        text-align: right;\n",
       "    }\n",
       "</style>\n",
       "<table border=\"1\" class=\"dataframe\">\n",
       "  <thead>\n",
       "    <tr style=\"text-align: right;\">\n",
       "      <th></th>\n",
       "      <th>id</th>\n",
       "      <th>name</th>\n",
       "      <th>est_diameter_min</th>\n",
       "      <th>est_diameter_max</th>\n",
       "      <th>relative_velocity</th>\n",
       "      <th>miss_distance</th>\n",
       "      <th>orbiting_body</th>\n",
       "      <th>sentry_object</th>\n",
       "      <th>absolute_magnitude</th>\n",
       "      <th>hazardous</th>\n",
       "    </tr>\n",
       "  </thead>\n",
       "  <tbody>\n",
       "    <tr>\n",
       "      <th>0</th>\n",
       "      <td>2162635</td>\n",
       "      <td>162635 (2000 SS164)</td>\n",
       "      <td>1.198271</td>\n",
       "      <td>2.679415</td>\n",
       "      <td>13569.249224</td>\n",
       "      <td>5.483974e+07</td>\n",
       "      <td>Earth</td>\n",
       "      <td>False</td>\n",
       "      <td>16.73</td>\n",
       "      <td>False</td>\n",
       "    </tr>\n",
       "    <tr>\n",
       "      <th>1</th>\n",
       "      <td>2277475</td>\n",
       "      <td>277475 (2005 WK4)</td>\n",
       "      <td>0.265800</td>\n",
       "      <td>0.594347</td>\n",
       "      <td>73588.726663</td>\n",
       "      <td>6.143813e+07</td>\n",
       "      <td>Earth</td>\n",
       "      <td>False</td>\n",
       "      <td>20.00</td>\n",
       "      <td>True</td>\n",
       "    </tr>\n",
       "    <tr>\n",
       "      <th>2</th>\n",
       "      <td>2512244</td>\n",
       "      <td>512244 (2015 YE18)</td>\n",
       "      <td>0.722030</td>\n",
       "      <td>1.614507</td>\n",
       "      <td>114258.692129</td>\n",
       "      <td>4.979872e+07</td>\n",
       "      <td>Earth</td>\n",
       "      <td>False</td>\n",
       "      <td>17.83</td>\n",
       "      <td>False</td>\n",
       "    </tr>\n",
       "    <tr>\n",
       "      <th>3</th>\n",
       "      <td>3596030</td>\n",
       "      <td>(2012 BV13)</td>\n",
       "      <td>0.096506</td>\n",
       "      <td>0.215794</td>\n",
       "      <td>24764.303138</td>\n",
       "      <td>2.543497e+07</td>\n",
       "      <td>Earth</td>\n",
       "      <td>False</td>\n",
       "      <td>22.20</td>\n",
       "      <td>False</td>\n",
       "    </tr>\n",
       "    <tr>\n",
       "      <th>4</th>\n",
       "      <td>3667127</td>\n",
       "      <td>(2014 GE35)</td>\n",
       "      <td>0.255009</td>\n",
       "      <td>0.570217</td>\n",
       "      <td>42737.733765</td>\n",
       "      <td>4.627557e+07</td>\n",
       "      <td>Earth</td>\n",
       "      <td>False</td>\n",
       "      <td>20.09</td>\n",
       "      <td>True</td>\n",
       "    </tr>\n",
       "    <tr>\n",
       "      <th>...</th>\n",
       "      <td>...</td>\n",
       "      <td>...</td>\n",
       "      <td>...</td>\n",
       "      <td>...</td>\n",
       "      <td>...</td>\n",
       "      <td>...</td>\n",
       "      <td>...</td>\n",
       "      <td>...</td>\n",
       "      <td>...</td>\n",
       "      <td>...</td>\n",
       "    </tr>\n",
       "    <tr>\n",
       "      <th>90831</th>\n",
       "      <td>3763337</td>\n",
       "      <td>(2016 VX1)</td>\n",
       "      <td>0.026580</td>\n",
       "      <td>0.059435</td>\n",
       "      <td>52078.886692</td>\n",
       "      <td>1.230039e+07</td>\n",
       "      <td>Earth</td>\n",
       "      <td>False</td>\n",
       "      <td>25.00</td>\n",
       "      <td>False</td>\n",
       "    </tr>\n",
       "    <tr>\n",
       "      <th>90832</th>\n",
       "      <td>3837603</td>\n",
       "      <td>(2019 AD3)</td>\n",
       "      <td>0.016771</td>\n",
       "      <td>0.037501</td>\n",
       "      <td>46114.605073</td>\n",
       "      <td>5.432121e+07</td>\n",
       "      <td>Earth</td>\n",
       "      <td>False</td>\n",
       "      <td>26.00</td>\n",
       "      <td>False</td>\n",
       "    </tr>\n",
       "    <tr>\n",
       "      <th>90833</th>\n",
       "      <td>54017201</td>\n",
       "      <td>(2020 JP3)</td>\n",
       "      <td>0.031956</td>\n",
       "      <td>0.071456</td>\n",
       "      <td>7566.807732</td>\n",
       "      <td>2.840077e+07</td>\n",
       "      <td>Earth</td>\n",
       "      <td>False</td>\n",
       "      <td>24.60</td>\n",
       "      <td>False</td>\n",
       "    </tr>\n",
       "    <tr>\n",
       "      <th>90834</th>\n",
       "      <td>54115824</td>\n",
       "      <td>(2021 CN5)</td>\n",
       "      <td>0.007321</td>\n",
       "      <td>0.016370</td>\n",
       "      <td>69199.154484</td>\n",
       "      <td>6.869206e+07</td>\n",
       "      <td>Earth</td>\n",
       "      <td>False</td>\n",
       "      <td>27.80</td>\n",
       "      <td>False</td>\n",
       "    </tr>\n",
       "    <tr>\n",
       "      <th>90835</th>\n",
       "      <td>54205447</td>\n",
       "      <td>(2021 TW7)</td>\n",
       "      <td>0.039862</td>\n",
       "      <td>0.089133</td>\n",
       "      <td>27024.455553</td>\n",
       "      <td>5.977213e+07</td>\n",
       "      <td>Earth</td>\n",
       "      <td>False</td>\n",
       "      <td>24.12</td>\n",
       "      <td>False</td>\n",
       "    </tr>\n",
       "  </tbody>\n",
       "</table>\n",
       "<p>90836 rows × 10 columns</p>\n",
       "</div>"
      ],
      "text/plain": [
       "             id                 name  est_diameter_min  est_diameter_max  \\\n",
       "0       2162635  162635 (2000 SS164)          1.198271          2.679415   \n",
       "1       2277475    277475 (2005 WK4)          0.265800          0.594347   \n",
       "2       2512244   512244 (2015 YE18)          0.722030          1.614507   \n",
       "3       3596030          (2012 BV13)          0.096506          0.215794   \n",
       "4       3667127          (2014 GE35)          0.255009          0.570217   \n",
       "...         ...                  ...               ...               ...   \n",
       "90831   3763337           (2016 VX1)          0.026580          0.059435   \n",
       "90832   3837603           (2019 AD3)          0.016771          0.037501   \n",
       "90833  54017201           (2020 JP3)          0.031956          0.071456   \n",
       "90834  54115824           (2021 CN5)          0.007321          0.016370   \n",
       "90835  54205447           (2021 TW7)          0.039862          0.089133   \n",
       "\n",
       "       relative_velocity  miss_distance orbiting_body  sentry_object  \\\n",
       "0           13569.249224   5.483974e+07         Earth          False   \n",
       "1           73588.726663   6.143813e+07         Earth          False   \n",
       "2          114258.692129   4.979872e+07         Earth          False   \n",
       "3           24764.303138   2.543497e+07         Earth          False   \n",
       "4           42737.733765   4.627557e+07         Earth          False   \n",
       "...                  ...            ...           ...            ...   \n",
       "90831       52078.886692   1.230039e+07         Earth          False   \n",
       "90832       46114.605073   5.432121e+07         Earth          False   \n",
       "90833        7566.807732   2.840077e+07         Earth          False   \n",
       "90834       69199.154484   6.869206e+07         Earth          False   \n",
       "90835       27024.455553   5.977213e+07         Earth          False   \n",
       "\n",
       "       absolute_magnitude  hazardous  \n",
       "0                   16.73      False  \n",
       "1                   20.00       True  \n",
       "2                   17.83      False  \n",
       "3                   22.20      False  \n",
       "4                   20.09       True  \n",
       "...                   ...        ...  \n",
       "90831               25.00      False  \n",
       "90832               26.00      False  \n",
       "90833               24.60      False  \n",
       "90834               27.80      False  \n",
       "90835               24.12      False  \n",
       "\n",
       "[90836 rows x 10 columns]"
      ]
     },
     "execution_count": 3,
     "metadata": {},
     "output_type": "execute_result"
    }
   ],
   "source": [
    "asteroids"
   ]
  },
  {
   "cell_type": "markdown",
   "id": "46e57cd3",
   "metadata": {},
   "source": [
    "### Feature Selection"
   ]
  },
  {
   "cell_type": "markdown",
   "id": "cea6e3d9",
   "metadata": {},
   "source": [
    "We don't need the following data, as there is either no relation between it and whether or not the asteroid is dangerous,\n",
    "or there is no data from it to pull (all data is the same):\n",
    "* id\n",
    "* name\n",
    "* orbiting_body\n",
    "* sentry_object"
   ]
  },
  {
   "cell_type": "code",
   "execution_count": 4,
   "id": "1030714d",
   "metadata": {},
   "outputs": [],
   "source": [
    "asteroids = asteroids[[\"est_diameter_min\",\"est_diameter_max\",\"relative_velocity\",\"miss_distance\",\"absolute_magnitude\",\"hazardous\"]]"
   ]
  },
  {
   "cell_type": "code",
   "execution_count": 5,
   "id": "60d5b323",
   "metadata": {},
   "outputs": [
    {
     "data": {
      "text/html": [
       "<div>\n",
       "<style scoped>\n",
       "    .dataframe tbody tr th:only-of-type {\n",
       "        vertical-align: middle;\n",
       "    }\n",
       "\n",
       "    .dataframe tbody tr th {\n",
       "        vertical-align: top;\n",
       "    }\n",
       "\n",
       "    .dataframe thead th {\n",
       "        text-align: right;\n",
       "    }\n",
       "</style>\n",
       "<table border=\"1\" class=\"dataframe\">\n",
       "  <thead>\n",
       "    <tr style=\"text-align: right;\">\n",
       "      <th></th>\n",
       "      <th>est_diameter_min</th>\n",
       "      <th>est_diameter_max</th>\n",
       "      <th>relative_velocity</th>\n",
       "      <th>miss_distance</th>\n",
       "      <th>absolute_magnitude</th>\n",
       "      <th>hazardous</th>\n",
       "    </tr>\n",
       "  </thead>\n",
       "  <tbody>\n",
       "    <tr>\n",
       "      <th>est_diameter_min</th>\n",
       "      <td>1.000000</td>\n",
       "      <td>1.000000</td>\n",
       "      <td>0.221553</td>\n",
       "      <td>0.142241</td>\n",
       "      <td>-0.560188</td>\n",
       "      <td>0.183363</td>\n",
       "    </tr>\n",
       "    <tr>\n",
       "      <th>est_diameter_max</th>\n",
       "      <td>1.000000</td>\n",
       "      <td>1.000000</td>\n",
       "      <td>0.221553</td>\n",
       "      <td>0.142241</td>\n",
       "      <td>-0.560188</td>\n",
       "      <td>0.183363</td>\n",
       "    </tr>\n",
       "    <tr>\n",
       "      <th>relative_velocity</th>\n",
       "      <td>0.221553</td>\n",
       "      <td>0.221553</td>\n",
       "      <td>1.000000</td>\n",
       "      <td>0.327169</td>\n",
       "      <td>-0.353863</td>\n",
       "      <td>0.191185</td>\n",
       "    </tr>\n",
       "    <tr>\n",
       "      <th>miss_distance</th>\n",
       "      <td>0.142241</td>\n",
       "      <td>0.142241</td>\n",
       "      <td>0.327169</td>\n",
       "      <td>1.000000</td>\n",
       "      <td>-0.264168</td>\n",
       "      <td>0.042302</td>\n",
       "    </tr>\n",
       "    <tr>\n",
       "      <th>absolute_magnitude</th>\n",
       "      <td>-0.560188</td>\n",
       "      <td>-0.560188</td>\n",
       "      <td>-0.353863</td>\n",
       "      <td>-0.264168</td>\n",
       "      <td>1.000000</td>\n",
       "      <td>-0.365267</td>\n",
       "    </tr>\n",
       "    <tr>\n",
       "      <th>hazardous</th>\n",
       "      <td>0.183363</td>\n",
       "      <td>0.183363</td>\n",
       "      <td>0.191185</td>\n",
       "      <td>0.042302</td>\n",
       "      <td>-0.365267</td>\n",
       "      <td>1.000000</td>\n",
       "    </tr>\n",
       "  </tbody>\n",
       "</table>\n",
       "</div>"
      ],
      "text/plain": [
       "                    est_diameter_min  est_diameter_max  relative_velocity  \\\n",
       "est_diameter_min            1.000000          1.000000           0.221553   \n",
       "est_diameter_max            1.000000          1.000000           0.221553   \n",
       "relative_velocity           0.221553          0.221553           1.000000   \n",
       "miss_distance               0.142241          0.142241           0.327169   \n",
       "absolute_magnitude         -0.560188         -0.560188          -0.353863   \n",
       "hazardous                   0.183363          0.183363           0.191185   \n",
       "\n",
       "                    miss_distance  absolute_magnitude  hazardous  \n",
       "est_diameter_min         0.142241           -0.560188   0.183363  \n",
       "est_diameter_max         0.142241           -0.560188   0.183363  \n",
       "relative_velocity        0.327169           -0.353863   0.191185  \n",
       "miss_distance            1.000000           -0.264168   0.042302  \n",
       "absolute_magnitude      -0.264168            1.000000  -0.365267  \n",
       "hazardous                0.042302           -0.365267   1.000000  "
      ]
     },
     "execution_count": 5,
     "metadata": {},
     "output_type": "execute_result"
    }
   ],
   "source": [
    "asteroids.corr()"
   ]
  },
  {
   "cell_type": "markdown",
   "id": "565e9e30",
   "metadata": {},
   "source": [
    "From this, we can see there are no direct correlations between hazardous and the other variables, so there is nothing further we can do for feature selection"
   ]
  },
  {
   "cell_type": "code",
   "execution_count": 6,
   "id": "1197812d",
   "metadata": {},
   "outputs": [],
   "source": [
    "# From here, split the datasets so we can do some AI\n",
    "X_data = asteroids.drop(\"hazardous\", axis=1).to_numpy()\n",
    "y_data = asteroids[\"hazardous\"].to_numpy()\n",
    "\n",
    "X_train, X_test, y_train, y_test = train_test_split(X_data, y_data, random_state=42)"
   ]
  },
  {
   "cell_type": "markdown",
   "id": "8f2edd0e",
   "metadata": {},
   "source": [
    "### Challenges\n",
    "One of the challenges to this dataset is the uneven split between safe and unsafe asteroids (about 80/20 split).  If we just assumed all asteroids were safe, we would have a model that is 80% accurate, but unprecise.  To combat this, we can downsample the training data so that we can achieve a more moderate split"
   ]
  },
  {
   "cell_type": "code",
   "execution_count": 9,
   "id": "1e2561ad",
   "metadata": {},
   "outputs": [
    {
     "name": "stdout",
     "output_type": "stream",
     "text": [
      "(13270, 5)\n",
      "(13270,)\n"
     ]
    }
   ],
   "source": [
    "# downsample here\n",
    "train_true = y_train[y_train == True].shape[0]\n",
    "train_false = y_train[y_train == False].shape[0]\n",
    "\n",
    "# process : pull all true data out, then pull an equal number of falses out, and use that to create a 50/50 split in data\n",
    "true_index = np.where(y_train == True)\n",
    "false_index = np.where(y_train == False)[0]\n",
    "\n",
    "num_to_get = len(true_index[0])\n",
    "N = np.random.choice(X_train[false_index].shape[0], num_to_get)\n",
    "\n",
    "X_false_data = X_train[N]\n",
    "X_true_data = X_train[true_index]\n",
    "\n",
    "y_false_data = y_train[N]\n",
    "y_true_data = y_train[true_index]\n",
    "\n",
    "X_down = np.concatenate((X_false_data, X_true_data), axis=0)\n",
    "y_down = np.concatenate((y_false_data, y_true_data), axis=0)\n",
    "\n",
    "np.random.shuffle(X_down)\n",
    "np.random.shuffle(y_down) #in place, no need to return anything\n",
    "\n",
    "print(X_down.shape)\n",
    "print(y_down.shape)"
   ]
  },
  {
   "cell_type": "markdown",
   "id": "d58f874c",
   "metadata": {},
   "source": [
    "### Training models on training dataset"
   ]
  },
  {
   "cell_type": "code",
   "execution_count": 30,
   "id": "73fde753",
   "metadata": {},
   "outputs": [
    {
     "data": {
      "text/plain": [
       "Pipeline(steps=[('standardscaler', StandardScaler()), ('svc', SVC(C=0.7))])"
      ]
     },
     "execution_count": 30,
     "metadata": {},
     "output_type": "execute_result"
    }
   ],
   "source": [
    "# SVN baby\n",
    "pipeline = make_pipeline(StandardScaler(), SVC(kernel='rbf', C=0.7))\n",
    "pipeline.fit(X_down, y_down)"
   ]
  },
  {
   "cell_type": "code",
   "execution_count": 31,
   "id": "c12c87f0",
   "metadata": {},
   "outputs": [],
   "source": [
    "predictions = pipeline.predict(X_train)\n"
   ]
  },
  {
   "cell_type": "code",
   "execution_count": 32,
   "id": "bc734477",
   "metadata": {},
   "outputs": [
    {
     "name": "stdout",
     "output_type": "stream",
     "text": [
      "[[  369   157]\n",
      " [61123  6478]]\n",
      "POE : 0.48402411454408445\n",
      "\n",
      "Precision 0.49116919210326326\n",
      "Recall 0.39867394867772277\n",
      "fscore 0.09321213025012158\n"
     ]
    }
   ],
   "source": [
    "conf_matrix = confusion_matrix(predictions, y_train)\n",
    "print(conf_matrix)\n",
    "\n",
    "correct_class_samples = np.sum(np.diag(conf_matrix))\n",
    "prob_error = 1 - (correct_class_samples / 13270)\n",
    "\n",
    "print(\"POE : {}\".format(prob_error))\n",
    "\n",
    "precision, recall, fscore, _ = precision_recall_fscore_support(predictions, y_train, average='macro')\n",
    "\n",
    "print(\"\\nPrecision {}\\nRecall {}\\nfscore {}\".format(precision, recall, fscore))"
   ]
  },
  {
   "cell_type": "markdown",
   "id": "aabf97dc",
   "metadata": {},
   "source": [
    "With a plain SVC, we don't get great results, with a probability of error of 48%, worse than a coin flip"
   ]
  },
  {
   "cell_type": "code",
   "execution_count": 34,
   "id": "d71b749a",
   "metadata": {},
   "outputs": [
    {
     "name": "stdout",
     "output_type": "stream",
     "text": [
      "[[20432  1962]\n",
      " [   72   243]]\n",
      "POE : -0.5580256217030897\n",
      "\n",
      "Precision 0.5533462858416874\n",
      "Recall 0.8419079090062389\n",
      "fscore 0.5727211724822336\n"
     ]
    }
   ],
   "source": [
    "# train SVC without downsampling\n",
    "pipeline = make_pipeline(StandardScaler(), SVC(kernel='rbf', C=0.7))\n",
    "pipeline.fit(X_train, y_train)\n",
    "\n",
    "predictions = pipeline.predict(X_test)\n",
    "\n",
    "conf_matrix = confusion_matrix(predictions, y_test)\n",
    "print(conf_matrix)\n",
    "\n",
    "correct_class_samples = np.sum(np.diag(conf_matrix))\n",
    "prob_error = 1 - (correct_class_samples / 13270)\n",
    "\n",
    "print(\"POE : {}\".format(prob_error))\n",
    "\n",
    "precision, recall, fscore, _ = precision_recall_fscore_support(predictions, y_test, average='macro')\n",
    "\n",
    "print(\"\\nPrecision {}\\nRecall {}\\nfscore {}\".format(precision, recall, fscore))"
   ]
  },
  {
   "cell_type": "markdown",
   "id": "44ff6f19",
   "metadata": {},
   "source": [
    "In fact, training without downsampling achieves better results, with a higher recall score, but a"
   ]
  }
 ],
 "metadata": {
  "kernelspec": {
   "display_name": "Python 3",
   "language": "python",
   "name": "python3"
  },
  "language_info": {
   "codemirror_mode": {
    "name": "ipython",
    "version": 3
   },
   "file_extension": ".py",
   "mimetype": "text/x-python",
   "name": "python",
   "nbconvert_exporter": "python",
   "pygments_lexer": "ipython3",
   "version": "3.7.1"
  }
 },
 "nbformat": 4,
 "nbformat_minor": 5
}
